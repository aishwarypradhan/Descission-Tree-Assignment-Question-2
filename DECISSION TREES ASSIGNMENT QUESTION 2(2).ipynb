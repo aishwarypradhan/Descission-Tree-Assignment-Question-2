{
 "cells": [
  {
   "cell_type": "code",
   "execution_count": 27,
   "id": "5e03b49a",
   "metadata": {},
   "outputs": [],
   "source": [
    "# Use decision trees to prepare a model on fraud data \n",
    "# treating those who have taxable_income <= 30000 as \"Risky\" and others are \"Good\"\n",
    "\n",
    "# Data Description :\n",
    "\n",
    "# Undergrad : person is under graduated or not\n",
    "# Marital.Status : marital status of a person\n",
    "# Taxable.Income : Taxable income is the amount of how much tax an individual owes to the government \n",
    "# Work Experience : Work experience of an individual person\n",
    "# Urban : Whether that person belongs to urban area or not\n",
    "\n",
    "\n"
   ]
  },
  {
   "cell_type": "code",
   "execution_count": 49,
   "id": "1703c2dd",
   "metadata": {},
   "outputs": [],
   "source": [
    "import pandas as pd\n",
    "import numpy as np\n",
    "import matplotlib.pyplot as plt\n",
    "import seaborn as sns\n",
    "%matplotlib inline\n",
    "from sklearn.preprocessing import LabelEncoder#for encoding\n",
    "LE=LabelEncoder()\n",
    "from sklearn.model_selection import train_test_split#for train test splitting\n",
    "from sklearn.tree import DecisionTreeClassifier#for decision tree object\n",
    "from sklearn.tree import plot_tree#for visualizing tree \n",
    "import warnings\n",
    "warnings.filterwarnings(\"ignore\")\n"
   ]
  },
  {
   "cell_type": "code",
   "execution_count": 50,
   "id": "d75c1b6f",
   "metadata": {},
   "outputs": [],
   "source": [
    "df=pd.read_csv(\"D:/Fraud_check _Random.csv\")"
   ]
  },
  {
   "cell_type": "code",
   "execution_count": 51,
   "id": "7071f505",
   "metadata": {},
   "outputs": [
    {
     "data": {
      "text/html": [
       "<div>\n",
       "<style scoped>\n",
       "    .dataframe tbody tr th:only-of-type {\n",
       "        vertical-align: middle;\n",
       "    }\n",
       "\n",
       "    .dataframe tbody tr th {\n",
       "        vertical-align: top;\n",
       "    }\n",
       "\n",
       "    .dataframe thead th {\n",
       "        text-align: right;\n",
       "    }\n",
       "</style>\n",
       "<table border=\"1\" class=\"dataframe\">\n",
       "  <thead>\n",
       "    <tr style=\"text-align: right;\">\n",
       "      <th></th>\n",
       "      <th>Undergrad</th>\n",
       "      <th>Marital.Status</th>\n",
       "      <th>Taxable.Income</th>\n",
       "      <th>City.Population</th>\n",
       "      <th>Work.Experience</th>\n",
       "      <th>Urban</th>\n",
       "    </tr>\n",
       "  </thead>\n",
       "  <tbody>\n",
       "    <tr>\n",
       "      <th>0</th>\n",
       "      <td>NO</td>\n",
       "      <td>Single</td>\n",
       "      <td>68833</td>\n",
       "      <td>50047</td>\n",
       "      <td>10</td>\n",
       "      <td>YES</td>\n",
       "    </tr>\n",
       "    <tr>\n",
       "      <th>1</th>\n",
       "      <td>YES</td>\n",
       "      <td>Divorced</td>\n",
       "      <td>33700</td>\n",
       "      <td>134075</td>\n",
       "      <td>18</td>\n",
       "      <td>YES</td>\n",
       "    </tr>\n",
       "    <tr>\n",
       "      <th>2</th>\n",
       "      <td>NO</td>\n",
       "      <td>Married</td>\n",
       "      <td>36925</td>\n",
       "      <td>160205</td>\n",
       "      <td>30</td>\n",
       "      <td>YES</td>\n",
       "    </tr>\n",
       "    <tr>\n",
       "      <th>3</th>\n",
       "      <td>YES</td>\n",
       "      <td>Single</td>\n",
       "      <td>50190</td>\n",
       "      <td>193264</td>\n",
       "      <td>15</td>\n",
       "      <td>YES</td>\n",
       "    </tr>\n",
       "    <tr>\n",
       "      <th>4</th>\n",
       "      <td>NO</td>\n",
       "      <td>Married</td>\n",
       "      <td>81002</td>\n",
       "      <td>27533</td>\n",
       "      <td>28</td>\n",
       "      <td>NO</td>\n",
       "    </tr>\n",
       "    <tr>\n",
       "      <th>...</th>\n",
       "      <td>...</td>\n",
       "      <td>...</td>\n",
       "      <td>...</td>\n",
       "      <td>...</td>\n",
       "      <td>...</td>\n",
       "      <td>...</td>\n",
       "    </tr>\n",
       "    <tr>\n",
       "      <th>595</th>\n",
       "      <td>YES</td>\n",
       "      <td>Divorced</td>\n",
       "      <td>76340</td>\n",
       "      <td>39492</td>\n",
       "      <td>7</td>\n",
       "      <td>YES</td>\n",
       "    </tr>\n",
       "    <tr>\n",
       "      <th>596</th>\n",
       "      <td>YES</td>\n",
       "      <td>Divorced</td>\n",
       "      <td>69967</td>\n",
       "      <td>55369</td>\n",
       "      <td>2</td>\n",
       "      <td>YES</td>\n",
       "    </tr>\n",
       "    <tr>\n",
       "      <th>597</th>\n",
       "      <td>NO</td>\n",
       "      <td>Divorced</td>\n",
       "      <td>47334</td>\n",
       "      <td>154058</td>\n",
       "      <td>0</td>\n",
       "      <td>YES</td>\n",
       "    </tr>\n",
       "    <tr>\n",
       "      <th>598</th>\n",
       "      <td>YES</td>\n",
       "      <td>Married</td>\n",
       "      <td>98592</td>\n",
       "      <td>180083</td>\n",
       "      <td>17</td>\n",
       "      <td>NO</td>\n",
       "    </tr>\n",
       "    <tr>\n",
       "      <th>599</th>\n",
       "      <td>NO</td>\n",
       "      <td>Divorced</td>\n",
       "      <td>96519</td>\n",
       "      <td>158137</td>\n",
       "      <td>16</td>\n",
       "      <td>NO</td>\n",
       "    </tr>\n",
       "  </tbody>\n",
       "</table>\n",
       "<p>600 rows × 6 columns</p>\n",
       "</div>"
      ],
      "text/plain": [
       "    Undergrad Marital.Status  Taxable.Income  City.Population  \\\n",
       "0          NO         Single           68833            50047   \n",
       "1         YES       Divorced           33700           134075   \n",
       "2          NO        Married           36925           160205   \n",
       "3         YES         Single           50190           193264   \n",
       "4          NO        Married           81002            27533   \n",
       "..        ...            ...             ...              ...   \n",
       "595       YES       Divorced           76340            39492   \n",
       "596       YES       Divorced           69967            55369   \n",
       "597        NO       Divorced           47334           154058   \n",
       "598       YES        Married           98592           180083   \n",
       "599        NO       Divorced           96519           158137   \n",
       "\n",
       "     Work.Experience Urban  \n",
       "0                 10   YES  \n",
       "1                 18   YES  \n",
       "2                 30   YES  \n",
       "3                 15   YES  \n",
       "4                 28    NO  \n",
       "..               ...   ...  \n",
       "595                7   YES  \n",
       "596                2   YES  \n",
       "597                0   YES  \n",
       "598               17    NO  \n",
       "599               16    NO  \n",
       "\n",
       "[600 rows x 6 columns]"
      ]
     },
     "execution_count": 51,
     "metadata": {},
     "output_type": "execute_result"
    }
   ],
   "source": [
    "df"
   ]
  },
  {
   "cell_type": "code",
   "execution_count": 52,
   "id": "6c62422f",
   "metadata": {},
   "outputs": [
    {
     "data": {
      "text/html": [
       "<div>\n",
       "<style scoped>\n",
       "    .dataframe tbody tr th:only-of-type {\n",
       "        vertical-align: middle;\n",
       "    }\n",
       "\n",
       "    .dataframe tbody tr th {\n",
       "        vertical-align: top;\n",
       "    }\n",
       "\n",
       "    .dataframe thead th {\n",
       "        text-align: right;\n",
       "    }\n",
       "</style>\n",
       "<table border=\"1\" class=\"dataframe\">\n",
       "  <thead>\n",
       "    <tr style=\"text-align: right;\">\n",
       "      <th></th>\n",
       "      <th>Undergrad</th>\n",
       "      <th>Marital.Status</th>\n",
       "      <th>Taxable.Income</th>\n",
       "      <th>City.Population</th>\n",
       "      <th>Work.Experience</th>\n",
       "      <th>Urban</th>\n",
       "    </tr>\n",
       "  </thead>\n",
       "  <tbody>\n",
       "    <tr>\n",
       "      <th>0</th>\n",
       "      <td>NO</td>\n",
       "      <td>Single</td>\n",
       "      <td>68833</td>\n",
       "      <td>50047</td>\n",
       "      <td>10</td>\n",
       "      <td>YES</td>\n",
       "    </tr>\n",
       "    <tr>\n",
       "      <th>1</th>\n",
       "      <td>YES</td>\n",
       "      <td>Divorced</td>\n",
       "      <td>33700</td>\n",
       "      <td>134075</td>\n",
       "      <td>18</td>\n",
       "      <td>YES</td>\n",
       "    </tr>\n",
       "    <tr>\n",
       "      <th>2</th>\n",
       "      <td>NO</td>\n",
       "      <td>Married</td>\n",
       "      <td>36925</td>\n",
       "      <td>160205</td>\n",
       "      <td>30</td>\n",
       "      <td>YES</td>\n",
       "    </tr>\n",
       "    <tr>\n",
       "      <th>3</th>\n",
       "      <td>YES</td>\n",
       "      <td>Single</td>\n",
       "      <td>50190</td>\n",
       "      <td>193264</td>\n",
       "      <td>15</td>\n",
       "      <td>YES</td>\n",
       "    </tr>\n",
       "    <tr>\n",
       "      <th>4</th>\n",
       "      <td>NO</td>\n",
       "      <td>Married</td>\n",
       "      <td>81002</td>\n",
       "      <td>27533</td>\n",
       "      <td>28</td>\n",
       "      <td>NO</td>\n",
       "    </tr>\n",
       "  </tbody>\n",
       "</table>\n",
       "</div>"
      ],
      "text/plain": [
       "  Undergrad Marital.Status  Taxable.Income  City.Population  Work.Experience  \\\n",
       "0        NO         Single           68833            50047               10   \n",
       "1       YES       Divorced           33700           134075               18   \n",
       "2        NO        Married           36925           160205               30   \n",
       "3       YES         Single           50190           193264               15   \n",
       "4        NO        Married           81002            27533               28   \n",
       "\n",
       "  Urban  \n",
       "0   YES  \n",
       "1   YES  \n",
       "2   YES  \n",
       "3   YES  \n",
       "4    NO  "
      ]
     },
     "execution_count": 52,
     "metadata": {},
     "output_type": "execute_result"
    }
   ],
   "source": [
    "df.head()"
   ]
  },
  {
   "cell_type": "code",
   "execution_count": 53,
   "id": "4130f6ee",
   "metadata": {},
   "outputs": [
    {
     "name": "stdout",
     "output_type": "stream",
     "text": [
      "<class 'pandas.core.frame.DataFrame'>\n",
      "RangeIndex: 600 entries, 0 to 599\n",
      "Data columns (total 6 columns):\n",
      " #   Column           Non-Null Count  Dtype \n",
      "---  ------           --------------  ----- \n",
      " 0   Undergrad        600 non-null    object\n",
      " 1   Marital.Status   600 non-null    object\n",
      " 2   Taxable.Income   600 non-null    int64 \n",
      " 3   City.Population  600 non-null    int64 \n",
      " 4   Work.Experience  600 non-null    int64 \n",
      " 5   Urban            600 non-null    object\n",
      "dtypes: int64(3), object(3)\n",
      "memory usage: 28.2+ KB\n"
     ]
    }
   ],
   "source": [
    "df.info()"
   ]
  },
  {
   "cell_type": "code",
   "execution_count": 54,
   "id": "0b239016",
   "metadata": {},
   "outputs": [],
   "source": [
    "##Converting the Taxable income variable to bucketing. \n",
    "df[\"income\"]=df[\"Taxable.Income\"]\n",
    "df.loc[df[\"Taxable.Income\"]>=30000,\"income\"]=\"Good\"\n",
    "df.loc[df[\"Taxable.Income\"]<=30000,\"income\"]=\"Risk\"\n"
   ]
  },
  {
   "cell_type": "code",
   "execution_count": 55,
   "id": "6954976d",
   "metadata": {},
   "outputs": [],
   "source": [
    "##Droping the Taxable income variable\n",
    "df.drop([\"Taxable.Income\"],axis=1,inplace=True)"
   ]
  },
  {
   "cell_type": "code",
   "execution_count": 56,
   "id": "bd53d8e0",
   "metadata": {},
   "outputs": [
    {
     "data": {
      "text/plain": [
       "Good    476\n",
       "Risk    124\n",
       "Name: income, dtype: int64"
      ]
     },
     "execution_count": 56,
     "metadata": {},
     "output_type": "execute_result"
    }
   ],
   "source": [
    "df[\"income\"].value_counts()"
   ]
  },
  {
   "cell_type": "markdown",
   "id": "a2d58f56",
   "metadata": {},
   "source": [
    "# Data Transformation of Continuous Variable....."
   ]
  },
  {
   "cell_type": "code",
   "execution_count": 57,
   "id": "9b39131e",
   "metadata": {},
   "outputs": [],
   "source": [
    "X=[var for var in df.columns if df[var].dtypes!=\"object\"]"
   ]
  },
  {
   "cell_type": "code",
   "execution_count": 58,
   "id": "8acebb4f",
   "metadata": {},
   "outputs": [],
   "source": [
    "df2=df[X]"
   ]
  },
  {
   "cell_type": "code",
   "execution_count": 59,
   "id": "7e666524",
   "metadata": {},
   "outputs": [
    {
     "data": {
      "text/html": [
       "<div>\n",
       "<style scoped>\n",
       "    .dataframe tbody tr th:only-of-type {\n",
       "        vertical-align: middle;\n",
       "    }\n",
       "\n",
       "    .dataframe tbody tr th {\n",
       "        vertical-align: top;\n",
       "    }\n",
       "\n",
       "    .dataframe thead th {\n",
       "        text-align: right;\n",
       "    }\n",
       "</style>\n",
       "<table border=\"1\" class=\"dataframe\">\n",
       "  <thead>\n",
       "    <tr style=\"text-align: right;\">\n",
       "      <th></th>\n",
       "      <th>City.Population</th>\n",
       "      <th>Work.Experience</th>\n",
       "    </tr>\n",
       "  </thead>\n",
       "  <tbody>\n",
       "    <tr>\n",
       "      <th>0</th>\n",
       "      <td>50047</td>\n",
       "      <td>10</td>\n",
       "    </tr>\n",
       "    <tr>\n",
       "      <th>1</th>\n",
       "      <td>134075</td>\n",
       "      <td>18</td>\n",
       "    </tr>\n",
       "    <tr>\n",
       "      <th>2</th>\n",
       "      <td>160205</td>\n",
       "      <td>30</td>\n",
       "    </tr>\n",
       "    <tr>\n",
       "      <th>3</th>\n",
       "      <td>193264</td>\n",
       "      <td>15</td>\n",
       "    </tr>\n",
       "    <tr>\n",
       "      <th>4</th>\n",
       "      <td>27533</td>\n",
       "      <td>28</td>\n",
       "    </tr>\n",
       "    <tr>\n",
       "      <th>...</th>\n",
       "      <td>...</td>\n",
       "      <td>...</td>\n",
       "    </tr>\n",
       "    <tr>\n",
       "      <th>595</th>\n",
       "      <td>39492</td>\n",
       "      <td>7</td>\n",
       "    </tr>\n",
       "    <tr>\n",
       "      <th>596</th>\n",
       "      <td>55369</td>\n",
       "      <td>2</td>\n",
       "    </tr>\n",
       "    <tr>\n",
       "      <th>597</th>\n",
       "      <td>154058</td>\n",
       "      <td>0</td>\n",
       "    </tr>\n",
       "    <tr>\n",
       "      <th>598</th>\n",
       "      <td>180083</td>\n",
       "      <td>17</td>\n",
       "    </tr>\n",
       "    <tr>\n",
       "      <th>599</th>\n",
       "      <td>158137</td>\n",
       "      <td>16</td>\n",
       "    </tr>\n",
       "  </tbody>\n",
       "</table>\n",
       "<p>600 rows × 2 columns</p>\n",
       "</div>"
      ],
      "text/plain": [
       "     City.Population  Work.Experience\n",
       "0              50047               10\n",
       "1             134075               18\n",
       "2             160205               30\n",
       "3             193264               15\n",
       "4              27533               28\n",
       "..               ...              ...\n",
       "595            39492                7\n",
       "596            55369                2\n",
       "597           154058                0\n",
       "598           180083               17\n",
       "599           158137               16\n",
       "\n",
       "[600 rows x 2 columns]"
      ]
     },
     "execution_count": 59,
     "metadata": {},
     "output_type": "execute_result"
    }
   ],
   "source": [
    "df2"
   ]
  },
  {
   "cell_type": "code",
   "execution_count": 60,
   "id": "501e8988",
   "metadata": {},
   "outputs": [
    {
     "data": {
      "text/html": [
       "<div>\n",
       "<style scoped>\n",
       "    .dataframe tbody tr th:only-of-type {\n",
       "        vertical-align: middle;\n",
       "    }\n",
       "\n",
       "    .dataframe tbody tr th {\n",
       "        vertical-align: top;\n",
       "    }\n",
       "\n",
       "    .dataframe thead th {\n",
       "        text-align: right;\n",
       "    }\n",
       "</style>\n",
       "<table border=\"1\" class=\"dataframe\">\n",
       "  <thead>\n",
       "    <tr style=\"text-align: right;\">\n",
       "      <th></th>\n",
       "      <th>City.Population</th>\n",
       "      <th>Work.Experience</th>\n",
       "    </tr>\n",
       "  </thead>\n",
       "  <tbody>\n",
       "    <tr>\n",
       "      <th>0</th>\n",
       "      <td>-1.178521</td>\n",
       "      <td>-0.629143</td>\n",
       "    </tr>\n",
       "    <tr>\n",
       "      <th>1</th>\n",
       "      <td>0.508500</td>\n",
       "      <td>0.276370</td>\n",
       "    </tr>\n",
       "    <tr>\n",
       "      <th>2</th>\n",
       "      <td>1.033109</td>\n",
       "      <td>1.634639</td>\n",
       "    </tr>\n",
       "    <tr>\n",
       "      <th>3</th>\n",
       "      <td>1.696831</td>\n",
       "      <td>-0.063197</td>\n",
       "    </tr>\n",
       "    <tr>\n",
       "      <th>4</th>\n",
       "      <td>-1.630532</td>\n",
       "      <td>1.408261</td>\n",
       "    </tr>\n",
       "    <tr>\n",
       "      <th>...</th>\n",
       "      <td>...</td>\n",
       "      <td>...</td>\n",
       "    </tr>\n",
       "    <tr>\n",
       "      <th>595</th>\n",
       "      <td>-1.390432</td>\n",
       "      <td>-0.968710</td>\n",
       "    </tr>\n",
       "    <tr>\n",
       "      <th>596</th>\n",
       "      <td>-1.071672</td>\n",
       "      <td>-1.534655</td>\n",
       "    </tr>\n",
       "    <tr>\n",
       "      <th>597</th>\n",
       "      <td>0.909696</td>\n",
       "      <td>-1.761033</td>\n",
       "    </tr>\n",
       "    <tr>\n",
       "      <th>598</th>\n",
       "      <td>1.432197</td>\n",
       "      <td>0.163181</td>\n",
       "    </tr>\n",
       "    <tr>\n",
       "      <th>599</th>\n",
       "      <td>0.991590</td>\n",
       "      <td>0.049992</td>\n",
       "    </tr>\n",
       "  </tbody>\n",
       "</table>\n",
       "<p>600 rows × 2 columns</p>\n",
       "</div>"
      ],
      "text/plain": [
       "     City.Population  Work.Experience\n",
       "0          -1.178521        -0.629143\n",
       "1           0.508500         0.276370\n",
       "2           1.033109         1.634639\n",
       "3           1.696831        -0.063197\n",
       "4          -1.630532         1.408261\n",
       "..               ...              ...\n",
       "595        -1.390432        -0.968710\n",
       "596        -1.071672        -1.534655\n",
       "597         0.909696        -1.761033\n",
       "598         1.432197         0.163181\n",
       "599         0.991590         0.049992\n",
       "\n",
       "[600 rows x 2 columns]"
      ]
     },
     "execution_count": 60,
     "metadata": {},
     "output_type": "execute_result"
    }
   ],
   "source": [
    "from sklearn.preprocessing import StandardScaler\n",
    "SS=StandardScaler()\n",
    "df3=SS.fit_transform(df2)\n",
    "df3=pd.DataFrame(df3)\n",
    "df3.columns=[\"City.Population\",\"Work.Experience\"]\n",
    "df3"
   ]
  },
  {
   "cell_type": "code",
   "execution_count": 61,
   "id": "78acefcf",
   "metadata": {},
   "outputs": [],
   "source": [
    "categorical=[var for var in df.columns if df[var].dtypes==\"object\"]"
   ]
  },
  {
   "cell_type": "code",
   "execution_count": 62,
   "id": "b1114af5",
   "metadata": {},
   "outputs": [],
   "source": [
    "df4=df[categorical]"
   ]
  },
  {
   "cell_type": "code",
   "execution_count": 63,
   "id": "add89d5f",
   "metadata": {},
   "outputs": [
    {
     "data": {
      "text/html": [
       "<div>\n",
       "<style scoped>\n",
       "    .dataframe tbody tr th:only-of-type {\n",
       "        vertical-align: middle;\n",
       "    }\n",
       "\n",
       "    .dataframe tbody tr th {\n",
       "        vertical-align: top;\n",
       "    }\n",
       "\n",
       "    .dataframe thead th {\n",
       "        text-align: right;\n",
       "    }\n",
       "</style>\n",
       "<table border=\"1\" class=\"dataframe\">\n",
       "  <thead>\n",
       "    <tr style=\"text-align: right;\">\n",
       "      <th></th>\n",
       "      <th>Undergrad</th>\n",
       "      <th>Marital.Status</th>\n",
       "      <th>Urban</th>\n",
       "      <th>income</th>\n",
       "    </tr>\n",
       "  </thead>\n",
       "  <tbody>\n",
       "    <tr>\n",
       "      <th>0</th>\n",
       "      <td>NO</td>\n",
       "      <td>Single</td>\n",
       "      <td>YES</td>\n",
       "      <td>Good</td>\n",
       "    </tr>\n",
       "    <tr>\n",
       "      <th>1</th>\n",
       "      <td>YES</td>\n",
       "      <td>Divorced</td>\n",
       "      <td>YES</td>\n",
       "      <td>Good</td>\n",
       "    </tr>\n",
       "    <tr>\n",
       "      <th>2</th>\n",
       "      <td>NO</td>\n",
       "      <td>Married</td>\n",
       "      <td>YES</td>\n",
       "      <td>Good</td>\n",
       "    </tr>\n",
       "    <tr>\n",
       "      <th>3</th>\n",
       "      <td>YES</td>\n",
       "      <td>Single</td>\n",
       "      <td>YES</td>\n",
       "      <td>Good</td>\n",
       "    </tr>\n",
       "    <tr>\n",
       "      <th>4</th>\n",
       "      <td>NO</td>\n",
       "      <td>Married</td>\n",
       "      <td>NO</td>\n",
       "      <td>Good</td>\n",
       "    </tr>\n",
       "    <tr>\n",
       "      <th>...</th>\n",
       "      <td>...</td>\n",
       "      <td>...</td>\n",
       "      <td>...</td>\n",
       "      <td>...</td>\n",
       "    </tr>\n",
       "    <tr>\n",
       "      <th>595</th>\n",
       "      <td>YES</td>\n",
       "      <td>Divorced</td>\n",
       "      <td>YES</td>\n",
       "      <td>Good</td>\n",
       "    </tr>\n",
       "    <tr>\n",
       "      <th>596</th>\n",
       "      <td>YES</td>\n",
       "      <td>Divorced</td>\n",
       "      <td>YES</td>\n",
       "      <td>Good</td>\n",
       "    </tr>\n",
       "    <tr>\n",
       "      <th>597</th>\n",
       "      <td>NO</td>\n",
       "      <td>Divorced</td>\n",
       "      <td>YES</td>\n",
       "      <td>Good</td>\n",
       "    </tr>\n",
       "    <tr>\n",
       "      <th>598</th>\n",
       "      <td>YES</td>\n",
       "      <td>Married</td>\n",
       "      <td>NO</td>\n",
       "      <td>Good</td>\n",
       "    </tr>\n",
       "    <tr>\n",
       "      <th>599</th>\n",
       "      <td>NO</td>\n",
       "      <td>Divorced</td>\n",
       "      <td>NO</td>\n",
       "      <td>Good</td>\n",
       "    </tr>\n",
       "  </tbody>\n",
       "</table>\n",
       "<p>600 rows × 4 columns</p>\n",
       "</div>"
      ],
      "text/plain": [
       "    Undergrad Marital.Status Urban income\n",
       "0          NO         Single   YES   Good\n",
       "1         YES       Divorced   YES   Good\n",
       "2          NO        Married   YES   Good\n",
       "3         YES         Single   YES   Good\n",
       "4          NO        Married    NO   Good\n",
       "..        ...            ...   ...    ...\n",
       "595       YES       Divorced   YES   Good\n",
       "596       YES       Divorced   YES   Good\n",
       "597        NO       Divorced   YES   Good\n",
       "598       YES        Married    NO   Good\n",
       "599        NO       Divorced    NO   Good\n",
       "\n",
       "[600 rows x 4 columns]"
      ]
     },
     "execution_count": 63,
     "metadata": {},
     "output_type": "execute_result"
    }
   ],
   "source": [
    "df4"
   ]
  },
  {
   "cell_type": "code",
   "execution_count": 64,
   "id": "7b2c415b",
   "metadata": {},
   "outputs": [],
   "source": [
    "for i in range(0,4):\n",
    "    df4.iloc[:,i]=LE.fit_transform(df4.iloc[:,i])"
   ]
  },
  {
   "cell_type": "code",
   "execution_count": 65,
   "id": "f3158cfd",
   "metadata": {},
   "outputs": [
    {
     "data": {
      "text/html": [
       "<div>\n",
       "<style scoped>\n",
       "    .dataframe tbody tr th:only-of-type {\n",
       "        vertical-align: middle;\n",
       "    }\n",
       "\n",
       "    .dataframe tbody tr th {\n",
       "        vertical-align: top;\n",
       "    }\n",
       "\n",
       "    .dataframe thead th {\n",
       "        text-align: right;\n",
       "    }\n",
       "</style>\n",
       "<table border=\"1\" class=\"dataframe\">\n",
       "  <thead>\n",
       "    <tr style=\"text-align: right;\">\n",
       "      <th></th>\n",
       "      <th>Undergrad</th>\n",
       "      <th>Marital.Status</th>\n",
       "      <th>Urban</th>\n",
       "      <th>income</th>\n",
       "    </tr>\n",
       "  </thead>\n",
       "  <tbody>\n",
       "    <tr>\n",
       "      <th>0</th>\n",
       "      <td>0</td>\n",
       "      <td>2</td>\n",
       "      <td>1</td>\n",
       "      <td>0</td>\n",
       "    </tr>\n",
       "    <tr>\n",
       "      <th>1</th>\n",
       "      <td>1</td>\n",
       "      <td>0</td>\n",
       "      <td>1</td>\n",
       "      <td>0</td>\n",
       "    </tr>\n",
       "    <tr>\n",
       "      <th>2</th>\n",
       "      <td>0</td>\n",
       "      <td>1</td>\n",
       "      <td>1</td>\n",
       "      <td>0</td>\n",
       "    </tr>\n",
       "    <tr>\n",
       "      <th>3</th>\n",
       "      <td>1</td>\n",
       "      <td>2</td>\n",
       "      <td>1</td>\n",
       "      <td>0</td>\n",
       "    </tr>\n",
       "    <tr>\n",
       "      <th>4</th>\n",
       "      <td>0</td>\n",
       "      <td>1</td>\n",
       "      <td>0</td>\n",
       "      <td>0</td>\n",
       "    </tr>\n",
       "    <tr>\n",
       "      <th>...</th>\n",
       "      <td>...</td>\n",
       "      <td>...</td>\n",
       "      <td>...</td>\n",
       "      <td>...</td>\n",
       "    </tr>\n",
       "    <tr>\n",
       "      <th>595</th>\n",
       "      <td>1</td>\n",
       "      <td>0</td>\n",
       "      <td>1</td>\n",
       "      <td>0</td>\n",
       "    </tr>\n",
       "    <tr>\n",
       "      <th>596</th>\n",
       "      <td>1</td>\n",
       "      <td>0</td>\n",
       "      <td>1</td>\n",
       "      <td>0</td>\n",
       "    </tr>\n",
       "    <tr>\n",
       "      <th>597</th>\n",
       "      <td>0</td>\n",
       "      <td>0</td>\n",
       "      <td>1</td>\n",
       "      <td>0</td>\n",
       "    </tr>\n",
       "    <tr>\n",
       "      <th>598</th>\n",
       "      <td>1</td>\n",
       "      <td>1</td>\n",
       "      <td>0</td>\n",
       "      <td>0</td>\n",
       "    </tr>\n",
       "    <tr>\n",
       "      <th>599</th>\n",
       "      <td>0</td>\n",
       "      <td>0</td>\n",
       "      <td>0</td>\n",
       "      <td>0</td>\n",
       "    </tr>\n",
       "  </tbody>\n",
       "</table>\n",
       "<p>600 rows × 4 columns</p>\n",
       "</div>"
      ],
      "text/plain": [
       "     Undergrad  Marital.Status  Urban  income\n",
       "0            0               2      1       0\n",
       "1            1               0      1       0\n",
       "2            0               1      1       0\n",
       "3            1               2      1       0\n",
       "4            0               1      0       0\n",
       "..         ...             ...    ...     ...\n",
       "595          1               0      1       0\n",
       "596          1               0      1       0\n",
       "597          0               0      1       0\n",
       "598          1               1      0       0\n",
       "599          0               0      0       0\n",
       "\n",
       "[600 rows x 4 columns]"
      ]
     },
     "execution_count": 65,
     "metadata": {},
     "output_type": "execute_result"
    }
   ],
   "source": [
    "df4"
   ]
  },
  {
   "cell_type": "code",
   "execution_count": 66,
   "id": "055ddb5d",
   "metadata": {},
   "outputs": [],
   "source": [
    "df5=pd.concat([df3,df4],axis=1)"
   ]
  },
  {
   "cell_type": "code",
   "execution_count": 67,
   "id": "9cc53866",
   "metadata": {},
   "outputs": [
    {
     "data": {
      "text/html": [
       "<div>\n",
       "<style scoped>\n",
       "    .dataframe tbody tr th:only-of-type {\n",
       "        vertical-align: middle;\n",
       "    }\n",
       "\n",
       "    .dataframe tbody tr th {\n",
       "        vertical-align: top;\n",
       "    }\n",
       "\n",
       "    .dataframe thead th {\n",
       "        text-align: right;\n",
       "    }\n",
       "</style>\n",
       "<table border=\"1\" class=\"dataframe\">\n",
       "  <thead>\n",
       "    <tr style=\"text-align: right;\">\n",
       "      <th></th>\n",
       "      <th>City.Population</th>\n",
       "      <th>Work.Experience</th>\n",
       "      <th>Undergrad</th>\n",
       "      <th>Marital.Status</th>\n",
       "      <th>Urban</th>\n",
       "      <th>income</th>\n",
       "    </tr>\n",
       "  </thead>\n",
       "  <tbody>\n",
       "    <tr>\n",
       "      <th>0</th>\n",
       "      <td>-1.178521</td>\n",
       "      <td>-0.629143</td>\n",
       "      <td>0</td>\n",
       "      <td>2</td>\n",
       "      <td>1</td>\n",
       "      <td>0</td>\n",
       "    </tr>\n",
       "    <tr>\n",
       "      <th>1</th>\n",
       "      <td>0.508500</td>\n",
       "      <td>0.276370</td>\n",
       "      <td>1</td>\n",
       "      <td>0</td>\n",
       "      <td>1</td>\n",
       "      <td>0</td>\n",
       "    </tr>\n",
       "    <tr>\n",
       "      <th>2</th>\n",
       "      <td>1.033109</td>\n",
       "      <td>1.634639</td>\n",
       "      <td>0</td>\n",
       "      <td>1</td>\n",
       "      <td>1</td>\n",
       "      <td>0</td>\n",
       "    </tr>\n",
       "    <tr>\n",
       "      <th>3</th>\n",
       "      <td>1.696831</td>\n",
       "      <td>-0.063197</td>\n",
       "      <td>1</td>\n",
       "      <td>2</td>\n",
       "      <td>1</td>\n",
       "      <td>0</td>\n",
       "    </tr>\n",
       "    <tr>\n",
       "      <th>4</th>\n",
       "      <td>-1.630532</td>\n",
       "      <td>1.408261</td>\n",
       "      <td>0</td>\n",
       "      <td>1</td>\n",
       "      <td>0</td>\n",
       "      <td>0</td>\n",
       "    </tr>\n",
       "    <tr>\n",
       "      <th>...</th>\n",
       "      <td>...</td>\n",
       "      <td>...</td>\n",
       "      <td>...</td>\n",
       "      <td>...</td>\n",
       "      <td>...</td>\n",
       "      <td>...</td>\n",
       "    </tr>\n",
       "    <tr>\n",
       "      <th>595</th>\n",
       "      <td>-1.390432</td>\n",
       "      <td>-0.968710</td>\n",
       "      <td>1</td>\n",
       "      <td>0</td>\n",
       "      <td>1</td>\n",
       "      <td>0</td>\n",
       "    </tr>\n",
       "    <tr>\n",
       "      <th>596</th>\n",
       "      <td>-1.071672</td>\n",
       "      <td>-1.534655</td>\n",
       "      <td>1</td>\n",
       "      <td>0</td>\n",
       "      <td>1</td>\n",
       "      <td>0</td>\n",
       "    </tr>\n",
       "    <tr>\n",
       "      <th>597</th>\n",
       "      <td>0.909696</td>\n",
       "      <td>-1.761033</td>\n",
       "      <td>0</td>\n",
       "      <td>0</td>\n",
       "      <td>1</td>\n",
       "      <td>0</td>\n",
       "    </tr>\n",
       "    <tr>\n",
       "      <th>598</th>\n",
       "      <td>1.432197</td>\n",
       "      <td>0.163181</td>\n",
       "      <td>1</td>\n",
       "      <td>1</td>\n",
       "      <td>0</td>\n",
       "      <td>0</td>\n",
       "    </tr>\n",
       "    <tr>\n",
       "      <th>599</th>\n",
       "      <td>0.991590</td>\n",
       "      <td>0.049992</td>\n",
       "      <td>0</td>\n",
       "      <td>0</td>\n",
       "      <td>0</td>\n",
       "      <td>0</td>\n",
       "    </tr>\n",
       "  </tbody>\n",
       "</table>\n",
       "<p>600 rows × 6 columns</p>\n",
       "</div>"
      ],
      "text/plain": [
       "     City.Population  Work.Experience  Undergrad  Marital.Status  Urban  \\\n",
       "0          -1.178521        -0.629143          0               2      1   \n",
       "1           0.508500         0.276370          1               0      1   \n",
       "2           1.033109         1.634639          0               1      1   \n",
       "3           1.696831        -0.063197          1               2      1   \n",
       "4          -1.630532         1.408261          0               1      0   \n",
       "..               ...              ...        ...             ...    ...   \n",
       "595        -1.390432        -0.968710          1               0      1   \n",
       "596        -1.071672        -1.534655          1               0      1   \n",
       "597         0.909696        -1.761033          0               0      1   \n",
       "598         1.432197         0.163181          1               1      0   \n",
       "599         0.991590         0.049992          0               0      0   \n",
       "\n",
       "     income  \n",
       "0         0  \n",
       "1         0  \n",
       "2         0  \n",
       "3         0  \n",
       "4         0  \n",
       "..      ...  \n",
       "595       0  \n",
       "596       0  \n",
       "597       0  \n",
       "598       0  \n",
       "599       0  \n",
       "\n",
       "[600 rows x 6 columns]"
      ]
     },
     "execution_count": 67,
     "metadata": {},
     "output_type": "execute_result"
    }
   ],
   "source": [
    "df5"
   ]
  },
  {
   "cell_type": "code",
   "execution_count": 68,
   "id": "4560a2f1",
   "metadata": {},
   "outputs": [],
   "source": [
    "Y=df5[\"income\"]\n",
    "X=df5.iloc[:,0:5]"
   ]
  },
  {
   "cell_type": "code",
   "execution_count": 69,
   "id": "77317d4b",
   "metadata": {},
   "outputs": [],
   "source": [
    "from sklearn.tree import DecisionTreeClassifier\n",
    "DT=DecisionTreeClassifier()"
   ]
  },
  {
   "cell_type": "code",
   "execution_count": 70,
   "id": "1f3305b9",
   "metadata": {},
   "outputs": [
    {
     "data": {
      "text/plain": [
       "DecisionTreeClassifier()"
      ]
     },
     "execution_count": 70,
     "metadata": {},
     "output_type": "execute_result"
    }
   ],
   "source": [
    "DT.fit(X,Y)"
   ]
  },
  {
   "cell_type": "code",
   "execution_count": 71,
   "id": "b7347c68",
   "metadata": {},
   "outputs": [
    {
     "data": {
      "text/plain": [
       "array([0, 0, 0, 0, 0, 0, 0, 0, 0, 0, 1, 0, 1, 0, 0, 0, 1, 0, 0, 1, 0, 1,\n",
       "       0, 0, 0, 0, 0, 0, 1, 0, 0, 0, 0, 0, 1, 0, 1, 0, 1, 0, 0, 0, 0, 0,\n",
       "       0, 0, 0, 0, 1, 0, 0, 0, 0, 1, 0, 1, 0, 0, 1, 0, 0, 1, 0, 0, 0, 0,\n",
       "       0, 0, 1, 0, 0, 0, 0, 0, 0, 0, 0, 0, 0, 1, 0, 0, 0, 0, 0, 1, 0, 1,\n",
       "       0, 1, 0, 0, 0, 1, 1, 0, 1, 0, 1, 0, 0, 0, 0, 0, 0, 0, 1, 0, 0, 0,\n",
       "       1, 0, 0, 0, 1, 0, 0, 0, 1, 0, 0, 1, 1, 1, 0, 0, 1, 0, 0, 0, 0, 0,\n",
       "       0, 0, 0, 1, 0, 1, 0, 0, 1, 0, 0, 1, 0, 0, 0, 0, 0, 0, 0, 0, 1, 1,\n",
       "       1, 0, 0, 0, 1, 0, 0, 0, 0, 1, 0, 0, 0, 0, 1, 0, 0, 1, 1, 0, 0, 0,\n",
       "       0, 0, 0, 1, 0, 1, 1, 0, 0, 0, 0, 0, 1, 0, 0, 0, 0, 0, 1, 0, 1, 0,\n",
       "       0, 1, 0, 0, 0, 0, 1, 1, 0, 1, 0, 0, 0, 0, 0, 0, 0, 0, 0, 0, 0, 1,\n",
       "       0, 0, 0, 0, 0, 0, 0, 0, 1, 0, 1, 0, 1, 1, 0, 0, 0, 1, 0, 0, 0, 1,\n",
       "       0, 0, 0, 0, 0, 1, 1, 0, 0, 0, 0, 0, 0, 0, 0, 0, 0, 1, 0, 0, 0, 0,\n",
       "       0, 1, 0, 1, 0, 0, 0, 0, 0, 0, 0, 0, 0, 0, 1, 0, 1, 0, 0, 0, 1, 0,\n",
       "       0, 0, 1, 0, 0, 0, 1, 0, 0, 0, 0, 0, 0, 0, 0, 1, 0, 0, 0, 0, 0, 0,\n",
       "       0, 0, 0, 0, 0, 0, 0, 1, 0, 0, 0, 0, 0, 0, 0, 0, 0, 0, 1, 1, 0, 1,\n",
       "       0, 1, 0, 1, 0, 0, 0, 1, 1, 1, 0, 0, 0, 0, 0, 0, 1, 1, 0, 1, 0, 0,\n",
       "       1, 0, 1, 0, 1, 1, 0, 0, 0, 0, 1, 1, 0, 0, 0, 1, 0, 0, 0, 0, 0, 0,\n",
       "       0, 0, 0, 0, 0, 1, 0, 0, 0, 0, 0, 0, 0, 0, 0, 0, 0, 0, 1, 0, 0, 0,\n",
       "       0, 0, 1, 0, 0, 0, 0, 0, 0, 0, 0, 0, 0, 0, 0, 0, 0, 0, 0, 0, 0, 0,\n",
       "       0, 0, 0, 0, 0, 0, 0, 0, 0, 0, 1, 0, 0, 0, 0, 1, 1, 0, 0, 1, 1, 1,\n",
       "       0, 0, 0, 1, 1, 0, 1, 0, 0, 0, 0, 0, 0, 0, 0, 0, 0, 1, 1, 1, 0, 0,\n",
       "       1, 0, 0, 1, 0, 0, 0, 0, 0, 1, 0, 0, 0, 0, 0, 0, 0, 0, 0, 0, 0, 1,\n",
       "       0, 0, 0, 0, 0, 0, 0, 1, 0, 1, 0, 0, 0, 0, 0, 0, 0, 0, 0, 0, 0, 0,\n",
       "       1, 0, 0, 1, 0, 0, 0, 0, 0, 0, 0, 1, 0, 0, 0, 0, 0, 0, 1, 0, 1, 0,\n",
       "       0, 0, 0, 0, 0, 1, 0, 0, 0, 0, 0, 0, 1, 1, 0, 0, 1, 0, 0, 0, 0, 0,\n",
       "       0, 0, 0, 0, 0, 0, 0, 1, 0, 0, 0, 0, 0, 0, 0, 0, 0, 1, 0, 0, 0, 0,\n",
       "       0, 0, 0, 1, 0, 0, 0, 0, 0, 0, 0, 0, 0, 0, 0, 0, 0, 0, 0, 1, 0, 0,\n",
       "       0, 0, 0, 0, 0, 0])"
      ]
     },
     "execution_count": 71,
     "metadata": {},
     "output_type": "execute_result"
    }
   ],
   "source": [
    "Y_pred=DT.predict(X)\n",
    "Y_pred"
   ]
  },
  {
   "cell_type": "code",
   "execution_count": 72,
   "id": "14c6f4b6",
   "metadata": {},
   "outputs": [
    {
     "data": {
      "text/plain": [
       "1.0"
      ]
     },
     "execution_count": 72,
     "metadata": {},
     "output_type": "execute_result"
    }
   ],
   "source": [
    "from sklearn.metrics import accuracy_score as ac\n",
    "ac1=ac(Y,Y_pred)\n",
    "ac1.round(3)"
   ]
  },
  {
   "cell_type": "code",
   "execution_count": 73,
   "id": "f59c309b",
   "metadata": {},
   "outputs": [],
   "source": [
    "from sklearn.tree  import DecisionTreeClassifier\n",
    "DT=DecisionTreeClassifier(criterion='gini',max_depth=3)\n",
    "from sklearn.model_selection import train_test_split\n",
    "train_Accuracy=[]\n",
    "test_Accuracy=[]\n",
    "import numpy as np"
   ]
  },
  {
   "cell_type": "code",
   "execution_count": 74,
   "id": "fe16753a",
   "metadata": {},
   "outputs": [],
   "source": [
    "for i in range(1,101):\n",
    "    X_train,X_test,Y_train,Y_test = train_test_split(X,Y, test_size=0.3, random_state=(i))\n",
    "    DT.fit(X_train,Y_train)\n",
    "    Y_pred_train = DT.predict(X_train)\n",
    "    Y_pred_test = DT.predict(X_test)\n",
    "    train_Accuracy.append(ac(Y_train,Y_pred_train))\n",
    "    test_Accuracy.append(ac(Y_test,Y_pred_test))"
   ]
  },
  {
   "cell_type": "code",
   "execution_count": 75,
   "id": "64df3f56",
   "metadata": {},
   "outputs": [
    {
     "name": "stdout",
     "output_type": "stream",
     "text": [
      "[0.7952380952380952, 0.8047619047619048, 0.8095238095238095, 0.7880952380952381, 0.7976190476190477, 0.8285714285714286, 0.8, 0.7928571428571428, 0.8023809523809524, 0.8095238095238095, 0.8023809523809524, 0.780952380952381, 0.7833333333333333, 0.7928571428571428, 0.780952380952381, 0.780952380952381, 0.8095238095238095, 0.8261904761904761, 0.8047619047619048, 0.8071428571428572, 0.7904761904761904, 0.8, 0.7928571428571428, 0.7928571428571428, 0.7976190476190477, 0.8095238095238095, 0.7976190476190477, 0.8142857142857143, 0.8047619047619048, 0.8, 0.7976190476190477, 0.7904761904761904, 0.7976190476190477, 0.7928571428571428, 0.8, 0.8095238095238095, 0.7976190476190477, 0.8023809523809524, 0.8047619047619048, 0.8023809523809524, 0.7976190476190477, 0.8047619047619048, 0.8095238095238095, 0.8166666666666667, 0.7833333333333333, 0.8023809523809524, 0.8071428571428572, 0.7880952380952381, 0.7952380952380952, 0.7976190476190477, 0.8119047619047619, 0.7857142857142857, 0.7785714285714286, 0.8, 0.7928571428571428, 0.8095238095238095, 0.7880952380952381, 0.7880952380952381, 0.7904761904761904, 0.8023809523809524, 0.8095238095238095, 0.8023809523809524, 0.8, 0.7857142857142857, 0.7880952380952381, 0.7833333333333333, 0.8238095238095238, 0.8, 0.8142857142857143, 0.8, 0.7880952380952381, 0.7833333333333333, 0.8095238095238095, 0.7952380952380952, 0.8119047619047619, 0.8023809523809524, 0.8119047619047619, 0.8119047619047619, 0.8023809523809524, 0.8214285714285714, 0.8071428571428572, 0.8238095238095238, 0.8, 0.8023809523809524, 0.7976190476190477, 0.7928571428571428, 0.7904761904761904, 0.8071428571428572, 0.8095238095238095, 0.7904761904761904, 0.8142857142857143, 0.7880952380952381, 0.7952380952380952, 0.8119047619047619, 0.7976190476190477, 0.7880952380952381, 0.8166666666666667, 0.8071428571428572, 0.7976190476190477, 0.8]\n"
     ]
    }
   ],
   "source": [
    "print(train_Accuracy)"
   ]
  },
  {
   "cell_type": "code",
   "execution_count": 76,
   "id": "17ddf830",
   "metadata": {},
   "outputs": [
    {
     "name": "stdout",
     "output_type": "stream",
     "text": [
      "[0.8, 0.7888888888888889, 0.7666666666666667, 0.7833333333333333, 0.8055555555555556, 0.7277777777777777, 0.7888888888888889, 0.8, 0.7777777777777778, 0.75, 0.7833333333333333, 0.8388888888888889, 0.8388888888888889, 0.8055555555555556, 0.8333333333333334, 0.85, 0.7666666666666667, 0.7222222222222222, 0.7833333333333333, 0.7611111111111111, 0.7944444444444444, 0.7888888888888889, 0.8111111111111111, 0.8, 0.7888888888888889, 0.7611111111111111, 0.7833333333333333, 0.7333333333333333, 0.7777777777777778, 0.7722222222222223, 0.7833333333333333, 0.8055555555555556, 0.7888888888888889, 0.8166666666666667, 0.7888888888888889, 0.7722222222222223, 0.7833333333333333, 0.7777777777777778, 0.7833333333333333, 0.7777777777777778, 0.7888888888888889, 0.7888888888888889, 0.7666666666666667, 0.7444444444444445, 0.8111111111111111, 0.7833333333333333, 0.7666666666666667, 0.8166666666666667, 0.7888888888888889, 0.7833333333333333, 0.7555555555555555, 0.8055555555555556, 0.8277777777777777, 0.7888888888888889, 0.7888888888888889, 0.7722222222222223, 0.8277777777777777, 0.8166666666666667, 0.8055555555555556, 0.7777777777777778, 0.7666666666666667, 0.8, 0.7888888888888889, 0.8166666666666667, 0.8055555555555556, 0.8333333333333334, 0.7277777777777777, 0.7888888888888889, 0.7666666666666667, 0.7833333333333333, 0.8111111111111111, 0.8388888888888889, 0.7666666666666667, 0.7944444444444444, 0.7444444444444445, 0.7888888888888889, 0.7611111111111111, 0.7777777777777778, 0.7833333333333333, 0.7388888888888889, 0.7833333333333333, 0.7222222222222222, 0.8, 0.7722222222222223, 0.7888888888888889, 0.8, 0.7833333333333333, 0.7611111111111111, 0.7555555555555555, 0.8055555555555556, 0.7555555555555555, 0.8055555555555556, 0.7833333333333333, 0.7611111111111111, 0.7777777777777778, 0.8055555555555556, 0.75, 0.7722222222222223, 0.7944444444444444, 0.7944444444444444]\n"
     ]
    }
   ],
   "source": [
    "print(test_Accuracy)"
   ]
  },
  {
   "cell_type": "code",
   "execution_count": 77,
   "id": "ece6a11f",
   "metadata": {},
   "outputs": [
    {
     "name": "stdout",
     "output_type": "stream",
     "text": [
      "Training Accuracy - CV:  0.8\n",
      "Test Accuracy - CV:  0.79\n"
     ]
    }
   ],
   "source": [
    "print('Training Accuracy - CV: ',np.mean(train_Accuracy).round(2))\n",
    "print('Test Accuracy - CV: ',np.mean(test_Accuracy).round(2))"
   ]
  },
  {
   "cell_type": "code",
   "execution_count": 78,
   "id": "6427eb37",
   "metadata": {},
   "outputs": [],
   "source": [
    "from sklearn import tree"
   ]
  },
  {
   "cell_type": "code",
   "execution_count": 79,
   "id": "bda12e0f",
   "metadata": {},
   "outputs": [
    {
     "data": {
      "image/png": "[encoded data removed]",
      "text/plain": [
       "<Figure size 640x480 with 1 Axes>"
      ]
     },
     "metadata": {},
     "output_type": "display_data"
    }
   ],
   "source": [
    "#PLot the decision tree\n",
    "tree.plot_tree(DT);"
   ]
  },
  {
   "cell_type": "code",
   "execution_count": 80,
   "id": "20fa1b0b",
   "metadata": {},
   "outputs": [],
   "source": [
    "########################LETS TRY WITH ENTROPY#################################################################"
   ]
  },
  {
   "cell_type": "code",
   "execution_count": 81,
   "id": "4f3a775f",
   "metadata": {},
   "outputs": [],
   "source": [
    "from sklearn.tree  import DecisionTreeClassifier\n",
    "DT=DecisionTreeClassifier(criterion='entropy',max_depth=3)\n",
    "from sklearn.model_selection import train_test_split\n",
    "train_Accuracy1=[]\n",
    "test_Accuracy1=[]\n",
    "import numpy as np"
   ]
  },
  {
   "cell_type": "code",
   "execution_count": 82,
   "id": "5382440b",
   "metadata": {},
   "outputs": [],
   "source": [
    "for i in range(1,101):\n",
    "    X_train,X_test,Y_train,Y_test = train_test_split(X,Y, test_size=0.3, random_state=(i))\n",
    "    DT.fit(X_train,Y_train)\n",
    "    Y_pred_train = DT.predict(X_train)\n",
    "    Y_pred_test = DT.predict(X_test)\n",
    "    train_Accuracy1.append(ac(Y_train,Y_pred_train))\n",
    "    test_Accuracy1.append(ac(Y_test,Y_pred_test))"
   ]
  },
  {
   "cell_type": "code",
   "execution_count": 83,
   "id": "b601d10c",
   "metadata": {},
   "outputs": [
    {
     "name": "stdout",
     "output_type": "stream",
     "text": [
      "[0.7928571428571428, 0.8047619047619048, 0.8119047619047619, 0.7857142857142857, 0.7904761904761904, 0.8238095238095238, 0.8, 0.7904761904761904, 0.8023809523809524, 0.8095238095238095, 0.7976190476190477, 0.7857142857142857, 0.7833333333333333, 0.7928571428571428, 0.780952380952381, 0.780952380952381, 0.8071428571428572, 0.8261904761904761, 0.8023809523809524, 0.7976190476190477, 0.7928571428571428, 0.8023809523809524, 0.7928571428571428, 0.7928571428571428, 0.8, 0.8071428571428572, 0.8, 0.8095238095238095, 0.8, 0.7976190476190477, 0.7976190476190477, 0.7952380952380952, 0.7952380952380952, 0.7880952380952381, 0.8, 0.8071428571428572, 0.7976190476190477, 0.8023809523809524, 0.8047619047619048, 0.8047619047619048, 0.7976190476190477, 0.8023809523809524, 0.8047619047619048, 0.8166666666666667, 0.7833333333333333, 0.8023809523809524, 0.8047619047619048, 0.7880952380952381, 0.7952380952380952, 0.7952380952380952, 0.8119047619047619, 0.7833333333333333, 0.7785714285714286, 0.7976190476190477, 0.7928571428571428, 0.8023809523809524, 0.7880952380952381, 0.7833333333333333, 0.7904761904761904, 0.8023809523809524, 0.8095238095238095, 0.8023809523809524, 0.8, 0.7857142857142857, 0.7904761904761904, 0.7833333333333333, 0.8238095238095238, 0.7880952380952381, 0.8142857142857143, 0.8, 0.7880952380952381, 0.7833333333333333, 0.8023809523809524, 0.7952380952380952, 0.8095238095238095, 0.8023809523809524, 0.8047619047619048, 0.8095238095238095, 0.8047619047619048, 0.8142857142857143, 0.8095238095238095, 0.8238095238095238, 0.7976190476190477, 0.8023809523809524, 0.7928571428571428, 0.7928571428571428, 0.7857142857142857, 0.8071428571428572, 0.8095238095238095, 0.7904761904761904, 0.8142857142857143, 0.7880952380952381, 0.7928571428571428, 0.8119047619047619, 0.7952380952380952, 0.7833333333333333, 0.8166666666666667, 0.8047619047619048, 0.7976190476190477, 0.7976190476190477]\n"
     ]
    }
   ],
   "source": [
    "print(train_Accuracy1)"
   ]
  },
  {
   "cell_type": "code",
   "execution_count": 84,
   "id": "a96518bf",
   "metadata": {},
   "outputs": [
    {
     "name": "stdout",
     "output_type": "stream",
     "text": [
      "[0.8, 0.7888888888888889, 0.7666666666666667, 0.7833333333333333, 0.8055555555555556, 0.7277777777777777, 0.7888888888888889, 0.8, 0.7777777777777778, 0.75, 0.7833333333333333, 0.8388888888888889, 0.8388888888888889, 0.8055555555555556, 0.8333333333333334, 0.85, 0.7666666666666667, 0.7222222222222222, 0.7833333333333333, 0.7611111111111111, 0.7944444444444444, 0.7888888888888889, 0.8111111111111111, 0.8, 0.7888888888888889, 0.7611111111111111, 0.7833333333333333, 0.7333333333333333, 0.7777777777777778, 0.7722222222222223, 0.7833333333333333, 0.8055555555555556, 0.7888888888888889, 0.8166666666666667, 0.7888888888888889, 0.7722222222222223, 0.7833333333333333, 0.7777777777777778, 0.7833333333333333, 0.7777777777777778, 0.7888888888888889, 0.7888888888888889, 0.7666666666666667, 0.7444444444444445, 0.8111111111111111, 0.7833333333333333, 0.7666666666666667, 0.8166666666666667, 0.7888888888888889, 0.7833333333333333, 0.7555555555555555, 0.8055555555555556, 0.8277777777777777, 0.7888888888888889, 0.7888888888888889, 0.7722222222222223, 0.8277777777777777, 0.8166666666666667, 0.8055555555555556, 0.7777777777777778, 0.7666666666666667, 0.8, 0.7888888888888889, 0.8166666666666667, 0.8055555555555556, 0.8333333333333334, 0.7277777777777777, 0.7888888888888889, 0.7666666666666667, 0.7833333333333333, 0.8111111111111111, 0.8388888888888889, 0.7666666666666667, 0.7944444444444444, 0.7444444444444445, 0.7888888888888889, 0.7611111111111111, 0.7777777777777778, 0.7833333333333333, 0.7388888888888889, 0.7833333333333333, 0.7222222222222222, 0.8, 0.7722222222222223, 0.7888888888888889, 0.8, 0.7833333333333333, 0.7611111111111111, 0.7555555555555555, 0.8055555555555556, 0.7555555555555555, 0.8055555555555556, 0.7833333333333333, 0.7611111111111111, 0.7777777777777778, 0.8055555555555556, 0.75, 0.7722222222222223, 0.7944444444444444, 0.7944444444444444]\n"
     ]
    }
   ],
   "source": [
    "print(test_Accuracy)"
   ]
  },
  {
   "cell_type": "code",
   "execution_count": 85,
   "id": "a1af0798",
   "metadata": {},
   "outputs": [
    {
     "name": "stdout",
     "output_type": "stream",
     "text": [
      "Training Accuracy - CV:  0.8\n",
      "Test Accuracy - CV:  0.79\n"
     ]
    }
   ],
   "source": [
    "print('Training Accuracy - CV: ',np.mean(train_Accuracy1).round(2))\n",
    "print('Test Accuracy - CV: ',np.mean(test_Accuracy1).round(2))"
   ]
  },
  {
   "cell_type": "code",
   "execution_count": 86,
   "id": "c8f4d444",
   "metadata": {},
   "outputs": [
    {
     "data": {
      "image/png": "[encoded data removed]",
      "text/plain": [
       "<Figure size 640x480 with 1 Axes>"
      ]
     },
     "metadata": {},
     "output_type": "display_data"
    }
   ],
   "source": [
    "from sklearn import tree\n",
    "#PLot the decision tree\n",
    "tree.plot_tree(DT);"
   ]
  },
  {
   "cell_type": "code",
   "execution_count": null,
   "id": "15c38e54",
   "metadata": {},
   "outputs": [],
   "source": []
  }
 ],
 "metadata": {
  "kernelspec": {
   "display_name": "Python 3 (ipykernel)",
   "language": "python",
   "name": "python3"
  },
  "language_info": {
   "codemirror_mode": {
    "name": "ipython",
    "version": 3
   },
   "file_extension": ".py",
   "mimetype": "text/x-python",
   "name": "python",
   "nbconvert_exporter": "python",
   "pygments_lexer": "ipython3",
   "version": "3.9.13"
  }
 },
 "nbformat": 4,
 "nbformat_minor": 5
}
